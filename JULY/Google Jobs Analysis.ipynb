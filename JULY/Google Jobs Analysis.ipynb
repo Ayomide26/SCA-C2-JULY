{
 "cells": [
  {
   "cell_type": "markdown",
   "metadata": {},
   "source": [
    "# can you get a job at Google ?\n",
    "This is a Data Analysis work to show you how you can get a job at Google."
   ]
  },
  {
   "cell_type": "code",
   "execution_count": 1,
   "metadata": {},
   "outputs": [],
   "source": [
    "#importing all python libraries needed\n",
    "import pandas as pd\n",
    "import numpy as np\n",
    "import matplotlib.pyplot as plt\n",
    "%matplotlib inline \n",
    "import matplotlib as mpl\n",
    "\n"
   ]
  },
  {
   "cell_type": "code",
   "execution_count": 2,
   "metadata": {},
   "outputs": [
    {
     "data": {
      "text/html": [
       "<div>\n",
       "<style scoped>\n",
       "    .dataframe tbody tr th:only-of-type {\n",
       "        vertical-align: middle;\n",
       "    }\n",
       "\n",
       "    .dataframe tbody tr th {\n",
       "        vertical-align: top;\n",
       "    }\n",
       "\n",
       "    .dataframe thead th {\n",
       "        text-align: right;\n",
       "    }\n",
       "</style>\n",
       "<table border=\"1\" class=\"dataframe\">\n",
       "  <thead>\n",
       "    <tr style=\"text-align: right;\">\n",
       "      <th></th>\n",
       "      <th>Company</th>\n",
       "      <th>Title</th>\n",
       "      <th>Category</th>\n",
       "      <th>Location</th>\n",
       "      <th>Responsibilities</th>\n",
       "      <th>Minimum Qualifications</th>\n",
       "      <th>Preferred Qualifications</th>\n",
       "    </tr>\n",
       "  </thead>\n",
       "  <tbody>\n",
       "    <tr>\n",
       "      <th>0</th>\n",
       "      <td>Google</td>\n",
       "      <td>Google Cloud Program Manager</td>\n",
       "      <td>Program Management</td>\n",
       "      <td>Singapore</td>\n",
       "      <td>Shape, shepherd, ship, and show technical prog...</td>\n",
       "      <td>BA/BS degree or equivalent practical experienc...</td>\n",
       "      <td>Experience in the business technology market a...</td>\n",
       "    </tr>\n",
       "    <tr>\n",
       "      <th>1</th>\n",
       "      <td>Google</td>\n",
       "      <td>Supplier Development Engineer (SDE), Cable/Con...</td>\n",
       "      <td>Manufacturing &amp; Supply Chain</td>\n",
       "      <td>Shanghai, China</td>\n",
       "      <td>Drive cross-functional activities in the suppl...</td>\n",
       "      <td>BS degree in an Engineering discipline or equi...</td>\n",
       "      <td>BSEE, BSME or BSIE degree.\\nExperience of usin...</td>\n",
       "    </tr>\n",
       "    <tr>\n",
       "      <th>2</th>\n",
       "      <td>Google</td>\n",
       "      <td>Data Analyst, Product and Tools Operations, Go...</td>\n",
       "      <td>Technical Solutions</td>\n",
       "      <td>New York, NY, United States</td>\n",
       "      <td>Collect and analyze data to draw insight and i...</td>\n",
       "      <td>Bachelor’s degree in Business, Economics, Stat...</td>\n",
       "      <td>Experience partnering or consulting cross-func...</td>\n",
       "    </tr>\n",
       "    <tr>\n",
       "      <th>3</th>\n",
       "      <td>Google</td>\n",
       "      <td>Developer Advocate, Partner Engineering</td>\n",
       "      <td>Developer Relations</td>\n",
       "      <td>Mountain View, CA, United States</td>\n",
       "      <td>Work one-on-one with the top Android, iOS, and...</td>\n",
       "      <td>BA/BS degree in Computer Science or equivalent...</td>\n",
       "      <td>Experience as a software developer, architect,...</td>\n",
       "    </tr>\n",
       "    <tr>\n",
       "      <th>4</th>\n",
       "      <td>Google</td>\n",
       "      <td>Program Manager, Audio Visual (AV) Deployments</td>\n",
       "      <td>Program Management</td>\n",
       "      <td>Sunnyvale, CA, United States</td>\n",
       "      <td>Plan requirements with internal customers.\\nPr...</td>\n",
       "      <td>BA/BS degree or equivalent practical experienc...</td>\n",
       "      <td>CTS Certification.\\nExperience in the construc...</td>\n",
       "    </tr>\n",
       "    <tr>\n",
       "      <th>5</th>\n",
       "      <td>Google</td>\n",
       "      <td>Associate Account Strategist (Czech/Slovak), G...</td>\n",
       "      <td>Technical Solutions</td>\n",
       "      <td>Dublin, Ireland</td>\n",
       "      <td>Communicate with customers via phone and email...</td>\n",
       "      <td>Bachelor's degree or equivalent practical expe...</td>\n",
       "      <td>Experience in sales, customer service, account...</td>\n",
       "    </tr>\n",
       "    <tr>\n",
       "      <th>6</th>\n",
       "      <td>Google</td>\n",
       "      <td>Supplier Development Engineer, Camera, Consume...</td>\n",
       "      <td>Hardware Engineering</td>\n",
       "      <td>Mountain View, CA, United States</td>\n",
       "      <td>Manage cross-functional activities in the supp...</td>\n",
       "      <td>BS degree in Engineering or equivalent practic...</td>\n",
       "      <td>Master's degree.\\nExperience in the developmen...</td>\n",
       "    </tr>\n",
       "    <tr>\n",
       "      <th>7</th>\n",
       "      <td>Google</td>\n",
       "      <td>Strategic Technology Partner Manager, Healthca...</td>\n",
       "      <td>Partnerships</td>\n",
       "      <td>Sunnyvale, CA, United States</td>\n",
       "      <td>Lead the development and strategy with partner...</td>\n",
       "      <td>BA/BS degree or equivalent practical experienc...</td>\n",
       "      <td>BA/BS degree in a technical, life sciences or ...</td>\n",
       "    </tr>\n",
       "    <tr>\n",
       "      <th>8</th>\n",
       "      <td>Google</td>\n",
       "      <td>Manufacturing Business Manager, Google Hardware</td>\n",
       "      <td>Manufacturing &amp; Supply Chain</td>\n",
       "      <td>Xinyi District, Taiwan</td>\n",
       "      <td>Develop CM/ODM strategy and implement supplier...</td>\n",
       "      <td>BA/BS degree in Engineering, Supply Chain or e...</td>\n",
       "      <td>MBA degree.\\nExperience in procurement and sup...</td>\n",
       "    </tr>\n",
       "    <tr>\n",
       "      <th>9</th>\n",
       "      <td>Google</td>\n",
       "      <td>Solutions Architect, Healthcare and Life Scien...</td>\n",
       "      <td>Technical Solutions</td>\n",
       "      <td>New York, NY, United States</td>\n",
       "      <td>Help compile customer requirements as well as ...</td>\n",
       "      <td>BA/BS degree in Computer Science, related Soft...</td>\n",
       "      <td>Master's degree in Computer Science, related E...</td>\n",
       "    </tr>\n",
       "  </tbody>\n",
       "</table>\n",
       "</div>"
      ],
      "text/plain": [
       "  Company                                              Title  \\\n",
       "0  Google                       Google Cloud Program Manager   \n",
       "1  Google  Supplier Development Engineer (SDE), Cable/Con...   \n",
       "2  Google  Data Analyst, Product and Tools Operations, Go...   \n",
       "3  Google            Developer Advocate, Partner Engineering   \n",
       "4  Google     Program Manager, Audio Visual (AV) Deployments   \n",
       "5  Google  Associate Account Strategist (Czech/Slovak), G...   \n",
       "6  Google  Supplier Development Engineer, Camera, Consume...   \n",
       "7  Google  Strategic Technology Partner Manager, Healthca...   \n",
       "8  Google    Manufacturing Business Manager, Google Hardware   \n",
       "9  Google  Solutions Architect, Healthcare and Life Scien...   \n",
       "\n",
       "                       Category                          Location  \\\n",
       "0            Program Management                         Singapore   \n",
       "1  Manufacturing & Supply Chain                   Shanghai, China   \n",
       "2           Technical Solutions       New York, NY, United States   \n",
       "3           Developer Relations  Mountain View, CA, United States   \n",
       "4            Program Management      Sunnyvale, CA, United States   \n",
       "5           Technical Solutions                   Dublin, Ireland   \n",
       "6          Hardware Engineering  Mountain View, CA, United States   \n",
       "7                  Partnerships      Sunnyvale, CA, United States   \n",
       "8  Manufacturing & Supply Chain            Xinyi District, Taiwan   \n",
       "9           Technical Solutions       New York, NY, United States   \n",
       "\n",
       "                                    Responsibilities  \\\n",
       "0  Shape, shepherd, ship, and show technical prog...   \n",
       "1  Drive cross-functional activities in the suppl...   \n",
       "2  Collect and analyze data to draw insight and i...   \n",
       "3  Work one-on-one with the top Android, iOS, and...   \n",
       "4  Plan requirements with internal customers.\\nPr...   \n",
       "5  Communicate with customers via phone and email...   \n",
       "6  Manage cross-functional activities in the supp...   \n",
       "7  Lead the development and strategy with partner...   \n",
       "8  Develop CM/ODM strategy and implement supplier...   \n",
       "9  Help compile customer requirements as well as ...   \n",
       "\n",
       "                              Minimum Qualifications  \\\n",
       "0  BA/BS degree or equivalent practical experienc...   \n",
       "1  BS degree in an Engineering discipline or equi...   \n",
       "2  Bachelor’s degree in Business, Economics, Stat...   \n",
       "3  BA/BS degree in Computer Science or equivalent...   \n",
       "4  BA/BS degree or equivalent practical experienc...   \n",
       "5  Bachelor's degree or equivalent practical expe...   \n",
       "6  BS degree in Engineering or equivalent practic...   \n",
       "7  BA/BS degree or equivalent practical experienc...   \n",
       "8  BA/BS degree in Engineering, Supply Chain or e...   \n",
       "9  BA/BS degree in Computer Science, related Soft...   \n",
       "\n",
       "                            Preferred Qualifications  \n",
       "0  Experience in the business technology market a...  \n",
       "1  BSEE, BSME or BSIE degree.\\nExperience of usin...  \n",
       "2  Experience partnering or consulting cross-func...  \n",
       "3  Experience as a software developer, architect,...  \n",
       "4  CTS Certification.\\nExperience in the construc...  \n",
       "5  Experience in sales, customer service, account...  \n",
       "6  Master's degree.\\nExperience in the developmen...  \n",
       "7  BA/BS degree in a technical, life sciences or ...  \n",
       "8  MBA degree.\\nExperience in procurement and sup...  \n",
       "9  Master's degree in Computer Science, related E...  "
      ]
     },
     "execution_count": 2,
     "metadata": {},
     "output_type": "execute_result"
    }
   ],
   "source": [
    "#Getting our data into the work space using pandas\n",
    "data_frame1 = pd.read_csv('job_skills.csv')\n",
    "data_frame1.head(10)\n"
   ]
  },
  {
   "cell_type": "markdown",
   "metadata": {},
   "source": [
    "## This is the data we are working with for our analysis and visualization"
   ]
  },
  {
   "cell_type": "code",
   "execution_count": 3,
   "metadata": {},
   "outputs": [
    {
     "data": {
      "text/plain": [
       "Company                      0\n",
       "Title                        0\n",
       "Category                     0\n",
       "Location                     0\n",
       "Responsibilities            15\n",
       "Minimum Qualifications      14\n",
       "Preferred Qualifications    14\n",
       "dtype: int64"
      ]
     },
     "execution_count": 3,
     "metadata": {},
     "output_type": "execute_result"
    }
   ],
   "source": [
    "#Check if we have missing data in the dataset.\n",
    "pd.isnull(data_frame1).sum()"
   ]
  },
  {
   "cell_type": "markdown",
   "metadata": {},
   "source": [
    "### It shows we have missing data in the Responsibilities,Minimum Qualifications and Preferred Qualifications columns."
   ]
  },
  {
   "cell_type": "code",
   "execution_count": 4,
   "metadata": {},
   "outputs": [
    {
     "data": {
      "text/plain": [
       "Company                     0\n",
       "Title                       0\n",
       "Category                    0\n",
       "Location                    0\n",
       "Responsibilities            0\n",
       "Minimum Qualifications      0\n",
       "Preferred Qualifications    0\n",
       "dtype: int64"
      ]
     },
     "execution_count": 4,
     "metadata": {},
     "output_type": "execute_result"
    }
   ],
   "source": [
    "#Replacing the missing data\n",
    "df = data_frame1.dropna(how ='any',axis =\"rows\")\n",
    "pd.isnull(df).sum()"
   ]
  },
  {
   "cell_type": "markdown",
   "metadata": {},
   "source": [
    "we have no missing data in the dataset again"
   ]
  },
  {
   "cell_type": "code",
   "execution_count": 5,
   "metadata": {},
   "outputs": [
    {
     "data": {
      "text/plain": [
       "Index(['Company', 'Title', 'Category', 'Location', 'Responsibilities',\n",
       "       'Minimum Qualifications', 'Preferred Qualifications'],\n",
       "      dtype='object')"
      ]
     },
     "execution_count": 5,
     "metadata": {},
     "output_type": "execute_result"
    }
   ],
   "source": [
    "#Checking the number of columns we are working with.\n",
    "df.columns"
   ]
  },
  {
   "cell_type": "markdown",
   "metadata": {},
   "source": [
    "### We are working with 7 columns"
   ]
  },
  {
   "cell_type": "code",
   "execution_count": 6,
   "metadata": {},
   "outputs": [
    {
     "data": {
      "text/plain": [
       "Index(['Company', 'Title', 'Category', 'Location', 'Responsibilities',\n",
       "       'Min_qual', 'Pre_qual'],\n",
       "      dtype='object')"
      ]
     },
     "execution_count": 6,
     "metadata": {},
     "output_type": "execute_result"
    }
   ],
   "source": [
    "#Changing the names of some columns oops it is too long.\n",
    "df = df.rename(columns = {'Minimum Qualifications' : 'Min_qual','Preferred Qualifications': 'Pre_qual'})\n",
    "df.columns"
   ]
  },
  {
   "cell_type": "markdown",
   "metadata": {},
   "source": [
    " Changed the column names"
   ]
  },
  {
   "cell_type": "code",
   "execution_count": 7,
   "metadata": {},
   "outputs": [
    {
     "data": {
      "text/plain": [
       "(1235, 7)"
      ]
     },
     "execution_count": 7,
     "metadata": {},
     "output_type": "execute_result"
    }
   ],
   "source": [
    "df.shape"
   ]
  },
  {
   "cell_type": "markdown",
   "metadata": {},
   "source": [
    "### we have 1235 rows and 7 columns."
   ]
  },
  {
   "cell_type": "code",
   "execution_count": 8,
   "metadata": {},
   "outputs": [
    {
     "data": {
      "text/plain": [
       "Company             object\n",
       "Title               object\n",
       "Category            object\n",
       "Location            object\n",
       "Responsibilities    object\n",
       "Min_qual            object\n",
       "Pre_qual            object\n",
       "dtype: object"
      ]
     },
     "execution_count": 8,
     "metadata": {},
     "output_type": "execute_result"
    }
   ],
   "source": [
    "#Checking our Datatypes.\n",
    "df.dtypes"
   ]
  },
  {
   "cell_type": "code",
   "execution_count": 9,
   "metadata": {},
   "outputs": [
    {
     "data": {
      "text/plain": [
       "<matplotlib.axes._subplots.AxesSubplot at 0x28542931d08>"
      ]
     },
     "execution_count": 9,
     "metadata": {},
     "output_type": "execute_result"
    },
    {
     "data": {
      "image/png": "[encoded data removed]",
      "text/plain": [
       "<Figure size 432x288 with 1 Axes>"
      ]
     },
     "metadata": {
      "needs_background": "light"
     },
     "output_type": "display_data"
    }
   ],
   "source": [
    "#Checking the company jobs available in google.\n",
    "df.Company.value_counts().plot.bar()"
   ]
  },
  {
   "cell_type": "markdown",
   "metadata": {},
   "source": [
    "### By the bar chart above....Most job vacancies are from Google....."
   ]
  },
  {
   "cell_type": "code",
   "execution_count": 10,
   "metadata": {},
   "outputs": [
    {
     "data": {
      "text/html": [
       "<div>\n",
       "<style scoped>\n",
       "    .dataframe tbody tr th:only-of-type {\n",
       "        vertical-align: middle;\n",
       "    }\n",
       "\n",
       "    .dataframe tbody tr th {\n",
       "        vertical-align: top;\n",
       "    }\n",
       "\n",
       "    .dataframe thead th {\n",
       "        text-align: right;\n",
       "    }\n",
       "</style>\n",
       "<table border=\"1\" class=\"dataframe\">\n",
       "  <thead>\n",
       "    <tr style=\"text-align: right;\">\n",
       "      <th></th>\n",
       "      <th>Company</th>\n",
       "      <th>Title</th>\n",
       "      <th>Category</th>\n",
       "      <th>Location</th>\n",
       "      <th>Responsibilities</th>\n",
       "      <th>Min_qual</th>\n",
       "      <th>Pre_qual</th>\n",
       "    </tr>\n",
       "  </thead>\n",
       "  <tbody>\n",
       "    <tr>\n",
       "      <th>0</th>\n",
       "      <td>Google</td>\n",
       "      <td>Google Cloud Program Manager</td>\n",
       "      <td>Program Management</td>\n",
       "      <td>Singapore</td>\n",
       "      <td>Shape, shepherd, ship, and show technical prog...</td>\n",
       "      <td>BA/BS degree or equivalent practical experienc...</td>\n",
       "      <td>Experience in the business technology market a...</td>\n",
       "    </tr>\n",
       "    <tr>\n",
       "      <th>1</th>\n",
       "      <td>Google</td>\n",
       "      <td>Supplier Development Engineer (SDE), Cable/Con...</td>\n",
       "      <td>Manufacturing &amp; Supply Chain</td>\n",
       "      <td>Shanghai, China</td>\n",
       "      <td>Drive cross-functional activities in the suppl...</td>\n",
       "      <td>BS degree in an Engineering discipline or equi...</td>\n",
       "      <td>BSEE, BSME or BSIE degree.\\nExperience of usin...</td>\n",
       "    </tr>\n",
       "    <tr>\n",
       "      <th>2</th>\n",
       "      <td>Google</td>\n",
       "      <td>Data Analyst, Product and Tools Operations, Go...</td>\n",
       "      <td>Technical Solutions</td>\n",
       "      <td>New York, NY, United States</td>\n",
       "      <td>Collect and analyze data to draw insight and i...</td>\n",
       "      <td>Bachelor’s degree in Business, Economics, Stat...</td>\n",
       "      <td>Experience partnering or consulting cross-func...</td>\n",
       "    </tr>\n",
       "    <tr>\n",
       "      <th>3</th>\n",
       "      <td>Google</td>\n",
       "      <td>Developer Advocate, Partner Engineering</td>\n",
       "      <td>Developer Relations</td>\n",
       "      <td>Mountain View, CA, United States</td>\n",
       "      <td>Work one-on-one with the top Android, iOS, and...</td>\n",
       "      <td>BA/BS degree in Computer Science or equivalent...</td>\n",
       "      <td>Experience as a software developer, architect,...</td>\n",
       "    </tr>\n",
       "    <tr>\n",
       "      <th>4</th>\n",
       "      <td>Google</td>\n",
       "      <td>Program Manager, Audio Visual (AV) Deployments</td>\n",
       "      <td>Program Management</td>\n",
       "      <td>Sunnyvale, CA, United States</td>\n",
       "      <td>Plan requirements with internal customers.\\nPr...</td>\n",
       "      <td>BA/BS degree or equivalent practical experienc...</td>\n",
       "      <td>CTS Certification.\\nExperience in the construc...</td>\n",
       "    </tr>\n",
       "    <tr>\n",
       "      <th>...</th>\n",
       "      <td>...</td>\n",
       "      <td>...</td>\n",
       "      <td>...</td>\n",
       "      <td>...</td>\n",
       "      <td>...</td>\n",
       "      <td>...</td>\n",
       "      <td>...</td>\n",
       "    </tr>\n",
       "    <tr>\n",
       "      <th>1245</th>\n",
       "      <td>Google</td>\n",
       "      <td>Global Investigator</td>\n",
       "      <td>Real Estate &amp; Workplace Services</td>\n",
       "      <td>Boulder, CO, United States</td>\n",
       "      <td>Develop protocols and practices to assess and ...</td>\n",
       "      <td>BA/BS degree or equivalent practical experienc...</td>\n",
       "      <td>Investigative or Interview certification throu...</td>\n",
       "    </tr>\n",
       "    <tr>\n",
       "      <th>1246</th>\n",
       "      <td>Google</td>\n",
       "      <td>Campus Security Manager</td>\n",
       "      <td>Real Estate &amp; Workplace Services</td>\n",
       "      <td>Boulder, CO, United States</td>\n",
       "      <td>Manage the daily operations of the security ve...</td>\n",
       "      <td>BA/BS degree or equivalent practical experienc...</td>\n",
       "      <td>Master’s degree.\\nProficient in the use of com...</td>\n",
       "    </tr>\n",
       "    <tr>\n",
       "      <th>1247</th>\n",
       "      <td>Google</td>\n",
       "      <td>Facilities Manager</td>\n",
       "      <td>Real Estate &amp; Workplace Services</td>\n",
       "      <td>Xinyi District, Taiwan</td>\n",
       "      <td>Collaborate with functional teams; plan and ma...</td>\n",
       "      <td>BA/BS degree or equivalent practical experienc...</td>\n",
       "      <td>Experience managing outsourced facilities serv...</td>\n",
       "    </tr>\n",
       "    <tr>\n",
       "      <th>1248</th>\n",
       "      <td>Google</td>\n",
       "      <td>Physical Security Manager</td>\n",
       "      <td>Real Estate &amp; Workplace Services</td>\n",
       "      <td>Tel Aviv-Yafo, Israel</td>\n",
       "      <td>Partner closely with and offer guidance and co...</td>\n",
       "      <td>BA/BS degree or equivalent practical experienc...</td>\n",
       "      <td>Experience working on international programs.\\...</td>\n",
       "    </tr>\n",
       "    <tr>\n",
       "      <th>1249</th>\n",
       "      <td>Google</td>\n",
       "      <td>Physical Security Manager</td>\n",
       "      <td>Real Estate &amp; Workplace Services</td>\n",
       "      <td>Wrocław, Poland</td>\n",
       "      <td>Partner closely with and offer guidance and co...</td>\n",
       "      <td>BA/BS degree or equivalent practical experienc...</td>\n",
       "      <td>Experience working on international programs.\\...</td>\n",
       "    </tr>\n",
       "  </tbody>\n",
       "</table>\n",
       "<p>1212 rows × 7 columns</p>\n",
       "</div>"
      ],
      "text/plain": [
       "     Company                                              Title  \\\n",
       "0     Google                       Google Cloud Program Manager   \n",
       "1     Google  Supplier Development Engineer (SDE), Cable/Con...   \n",
       "2     Google  Data Analyst, Product and Tools Operations, Go...   \n",
       "3     Google            Developer Advocate, Partner Engineering   \n",
       "4     Google     Program Manager, Audio Visual (AV) Deployments   \n",
       "...      ...                                                ...   \n",
       "1245  Google                                Global Investigator   \n",
       "1246  Google                            Campus Security Manager   \n",
       "1247  Google                                 Facilities Manager   \n",
       "1248  Google                          Physical Security Manager   \n",
       "1249  Google                          Physical Security Manager   \n",
       "\n",
       "                              Category                          Location  \\\n",
       "0                   Program Management                         Singapore   \n",
       "1         Manufacturing & Supply Chain                   Shanghai, China   \n",
       "2                  Technical Solutions       New York, NY, United States   \n",
       "3                  Developer Relations  Mountain View, CA, United States   \n",
       "4                   Program Management      Sunnyvale, CA, United States   \n",
       "...                                ...                               ...   \n",
       "1245  Real Estate & Workplace Services        Boulder, CO, United States   \n",
       "1246  Real Estate & Workplace Services        Boulder, CO, United States   \n",
       "1247  Real Estate & Workplace Services            Xinyi District, Taiwan   \n",
       "1248  Real Estate & Workplace Services             Tel Aviv-Yafo, Israel   \n",
       "1249  Real Estate & Workplace Services                   Wrocław, Poland   \n",
       "\n",
       "                                       Responsibilities  \\\n",
       "0     Shape, shepherd, ship, and show technical prog...   \n",
       "1     Drive cross-functional activities in the suppl...   \n",
       "2     Collect and analyze data to draw insight and i...   \n",
       "3     Work one-on-one with the top Android, iOS, and...   \n",
       "4     Plan requirements with internal customers.\\nPr...   \n",
       "...                                                 ...   \n",
       "1245  Develop protocols and practices to assess and ...   \n",
       "1246  Manage the daily operations of the security ve...   \n",
       "1247  Collaborate with functional teams; plan and ma...   \n",
       "1248  Partner closely with and offer guidance and co...   \n",
       "1249  Partner closely with and offer guidance and co...   \n",
       "\n",
       "                                               Min_qual  \\\n",
       "0     BA/BS degree or equivalent practical experienc...   \n",
       "1     BS degree in an Engineering discipline or equi...   \n",
       "2     Bachelor’s degree in Business, Economics, Stat...   \n",
       "3     BA/BS degree in Computer Science or equivalent...   \n",
       "4     BA/BS degree or equivalent practical experienc...   \n",
       "...                                                 ...   \n",
       "1245  BA/BS degree or equivalent practical experienc...   \n",
       "1246  BA/BS degree or equivalent practical experienc...   \n",
       "1247  BA/BS degree or equivalent practical experienc...   \n",
       "1248  BA/BS degree or equivalent practical experienc...   \n",
       "1249  BA/BS degree or equivalent practical experienc...   \n",
       "\n",
       "                                               Pre_qual  \n",
       "0     Experience in the business technology market a...  \n",
       "1     BSEE, BSME or BSIE degree.\\nExperience of usin...  \n",
       "2     Experience partnering or consulting cross-func...  \n",
       "3     Experience as a software developer, architect,...  \n",
       "4     CTS Certification.\\nExperience in the construc...  \n",
       "...                                                 ...  \n",
       "1245  Investigative or Interview certification throu...  \n",
       "1246  Master’s degree.\\nProficient in the use of com...  \n",
       "1247  Experience managing outsourced facilities serv...  \n",
       "1248  Experience working on international programs.\\...  \n",
       "1249  Experience working on international programs.\\...  \n",
       "\n",
       "[1212 rows x 7 columns]"
      ]
     },
     "execution_count": 10,
     "metadata": {},
     "output_type": "execute_result"
    }
   ],
   "source": [
    "#Exploring google jobs based on title\n",
    "Google_title = df[[\"Company\",\"Title\",\"Category\",\"Location\",\"Responsibilities\",\"Min_qual\",\"Pre_qual\"]]\n",
    "Google_jobs = df[Google_title.Company == 'Google']\n",
    "Google_jobs\n"
   ]
  },
  {
   "cell_type": "markdown",
   "metadata": {},
   "source": [
    "### It shows we have 1212 rows and 7 columns for job vacancies based on Title"
   ]
  },
  {
   "cell_type": "code",
   "execution_count": 11,
   "metadata": {},
   "outputs": [
    {
     "data": {
      "image/png": "[encoded data removed]",
      "text/plain": [
       "<Figure size 432x288 with 1 Axes>"
      ]
     },
     "metadata": {
      "needs_background": "light"
     },
     "output_type": "display_data"
    }
   ],
   "source": [
    "google_plot = Google_jobs['Title'].apply(lambda x : x.split(\",\")[0]).value_counts()\n",
    "google_plot.head(10).plot.barh()\n",
    "plt.title(\"Google Jobs Based on Title\")\n",
    "plt.xlabel(\"Title\")\n",
    "plt.ylabel(\"Counts\")\n",
    "plt.show()\n"
   ]
  },
  {
   "cell_type": "markdown",
   "metadata": {},
   "source": [
    "## oops......if you are student of Business Management studies,your chances are high,getting a job as a Business Intern in Google."
   ]
  },
  {
   "cell_type": "markdown",
   "metadata": {},
   "source": [
    "## Getting a job in Google based on Education Degree popularity."
   ]
  },
  {
   "cell_type": "code",
   "execution_count": 12,
   "metadata": {},
   "outputs": [],
   "source": [
    "#made some research on the data to know all the degree in the dataset ,i found out we have some issues of capital letter to small letter.\n",
    "quali_degree = ['BA/BS ','MBA, MS','B.A','MA/MS', 'MA','M.A', 'MS','M.S','ME','M.E', 'PhD', 'Ph.D','MBA','JD Degree','MIT','CPA','IIM','CA','C.A','IIT','CIPD','JD','J.D','CIA','LLB','CFA','CISA','MST',]\n"
   ]
  },
  {
   "cell_type": "markdown",
   "metadata": {},
   "source": [
    "### This are the degree required to get a job in Google with minimum qualificattion ,let check the most required degree."
   ]
  },
  {
   "cell_type": "code",
   "execution_count": 13,
   "metadata": {
    "scrolled": true
   },
   "outputs": [
    {
     "data": {
      "image/png": "[encoded data removed]",
      "text/plain": [
       "<Figure size 432x288 with 1 Axes>"
      ]
     },
     "metadata": {
      "needs_background": "light"
     },
     "output_type": "display_data"
    }
   ],
   "source": [
    "#requirement degree to get a job in Google\n",
    "google_degree = dict((x,0) \n",
    "for x in quali_degree)\n",
    "for i in quali_degree:\n",
    "    x = Google_jobs['Min_qual'].str.contains(i).sum()\n",
    "    if i in quali_degree:\n",
    "        google_degree[i] = x\n",
    "google_qdmin = pd.DataFrame(list(google_degree.items()),columns=['Degree',\"Count\"])\n",
    "google_qdmin['Count'] = google_qdmin.Count.astype('int')\n",
    "google_qdmin_count = google_qdmin[google_qdmin.Count != 0]\n",
    "google_qdmin_srtd = google_qdmin_count.sort_values('Degree')\n",
    "google_qdmin_srtd.plot.barh(y=\"Count\", x='Degree',legend = False, xlim = (0,1000))\n",
    "plt.title(\"Google-Popular Degrees Required in Minimum Qualifications\", fontsize =13)\n",
    "plt.xlabel(\"Popularity Count\")\n",
    "plt.ylabel(\"Degree\")\n",
    "plt.show()"
   ]
  },
  {
   "cell_type": "markdown",
   "metadata": {},
   "source": [
    "**Positions with BA /BS degree requirements in Minimum qualification is quite high in Google**"
   ]
  },
  {
   "cell_type": "markdown",
   "metadata": {},
   "source": [
    "## This are the degree required to get a job in Google with preferred qualification ,let check the most required degree."
   ]
  },
  {
   "cell_type": "code",
   "execution_count": 14,
   "metadata": {},
   "outputs": [
    {
     "data": {
      "image/png": "[encoded data removed]",
      "text/plain": [
       "<Figure size 432x288 with 1 Axes>"
      ]
     },
     "metadata": {
      "needs_background": "light"
     },
     "output_type": "display_data"
    }
   ],
   "source": [
    "#preferred requirement to get a job at google\n",
    "google_qd_pre = dict((x,0) \n",
    "for x in quali_degree)\n",
    "for i in quali_degree:\n",
    "    x = Google_jobs['Pre_qual'].str.contains(i).sum()\n",
    "    if i in quali_degree:\n",
    "        google_qd_pre[i] = x\n",
    "google_qdpre = pd.DataFrame(list(google_qd_pre.items()),columns=['Degree',\"Count\"])\n",
    "google_qdpre['Count'] = google_qdpre.Count.astype('int')\n",
    "google_qdpre_count = google_qdpre[google_qdpre.Count != 0]\n",
    "google_qdpre_srtd = google_qdpre_count.sort_values('Degree')\n",
    "google_qdpre_srtd.plot.barh(y= \"Count\",x = \"Degree\",legend = False, xlim = (0,300))\n",
    "plt.title(\"Google-Popular Degrees Required in Preferred Qualifications\", fontsize =13)\n",
    "plt.xlabel(\"Popularity Count\")\n",
    "plt.ylabel(\"Degree\")\n",
    "plt.show()"
   ]
  },
  {
   "cell_type": "markdown",
   "metadata": {},
   "source": [
    "**Position with M.A requirement in Preferred qualification is high in Google.**"
   ]
  },
  {
   "cell_type": "markdown",
   "metadata": {},
   "source": [
    "## Analysing to find Jobs based on Category"
   ]
  },
  {
   "cell_type": "code",
   "execution_count": 15,
   "metadata": {},
   "outputs": [
    {
     "data": {
      "text/plain": [
       "<matplotlib.axes._subplots.AxesSubplot at 0x28543821088>"
      ]
     },
     "execution_count": 15,
     "metadata": {},
     "output_type": "execute_result"
    },
    {
     "data": {
      "image/png": "[encoded data removed]",
      "text/plain": [
       "<Figure size 432x288 with 1 Axes>"
      ]
     },
     "metadata": {
      "needs_background": "light"
     },
     "output_type": "display_data"
    }
   ],
   "source": [
    "#Requirement to get a job based on category in Google\n",
    "google_category = Google_jobs['Category'].apply(lambda x : x.split(\",\")[0]).value_counts()\n",
    "plt.title(\"Google Job category Counts\")\n",
    "plt.xlabel(\"Counts\")\n",
    "plt.ylabel(\"Category\")\n",
    "google_category.head(20).plot.barh()"
   ]
  },
  {
   "cell_type": "markdown",
   "metadata": {},
   "source": [
    "### Sales & Account Management requirements are high...followed by Marketing and Communications."
   ]
  },
  {
   "cell_type": "markdown",
   "metadata": {},
   "source": [
    " ## Analysing based on Location to get a job in Google."
   ]
  },
  {
   "cell_type": "code",
   "execution_count": 16,
   "metadata": {},
   "outputs": [
    {
     "data": {
      "text/plain": [
       "<matplotlib.axes._subplots.AxesSubplot at 0x285436972c8>"
      ]
     },
     "execution_count": 16,
     "metadata": {},
     "output_type": "execute_result"
    },
    {
     "data": {
      "image/png": "[encoded data removed]",
      "text/plain": [
       "<Figure size 432x288 with 1 Axes>"
      ]
     },
     "metadata": {
      "needs_background": "light"
     },
     "output_type": "display_data"
    }
   ],
   "source": [
    "# To get a job based on Location(Country) in Google\n",
    "google_location = Google_jobs['Location'].apply(lambda x : x.split(\",\")[-1]).value_counts()\n",
    "plt.title(\"Google Jobs location Counts\")\n",
    "plt.xlabel(\"Counts\")\n",
    "plt.ylabel(\"Location\")\n",
    "google_location.head(20).plot.barh()"
   ]
  },
  {
   "cell_type": "markdown",
   "metadata": {},
   "source": [
    "**Getting a Google job based on location in United State is high.**"
   ]
  },
  {
   "cell_type": "markdown",
   "metadata": {},
   "source": [
    "## Overall experience analysis to get a job in Google."
   ]
  },
  {
   "cell_type": "code",
   "execution_count": 17,
   "metadata": {},
   "outputs": [
    {
     "data": {
      "image/png": "[encoded data removed]",
      "text/plain": [
       "<Figure size 432x288 with 1 Axes>"
      ]
     },
     "metadata": {
      "needs_background": "light"
     },
     "output_type": "display_data"
    }
   ],
   "source": [
    "#years of experience to get a job at Google with minimum Qualification\n",
    "Years_exp = ['Fresher', 'fresher', 'Intern', 'Internship','internship', 'intern',\"first year student\",\"final year student\", \"1 year\", '2 years','3 years','4 years','5 years','6 years','7 years','8 years','9 years','10 years','11 years','12 years','13 years','14 years','15 years','16 years']  \n",
    "overall_min_qual = {}\n",
    "for a in Years_exp:\n",
    "    x1 = df['Min_qual'].str.contains(a).sum()\n",
    "    if a in Years_exp:\n",
    "        overall_min_qual[a] = x1\n",
    "over_minqf = pd.DataFrame(list(overall_min_qual.items()),columns=['Experience Category',\"Count\"])\n",
    "over_minqf['Count'] = over_minqf.Count.astype('int')\n",
    "over_minqf_count = over_minqf[over_minqf.Count != 0]\n",
    "over_minqf_srtd = over_minqf_count.sort_values('Experience Category')\n",
    "over_minqf_srtd.plot.barh(y=\"Count\", x='Experience Category',legend = False, xlim = (0,200))\n",
    "plt.title(\"Experience Category Required in Overall-Minimum Qualifications\", fontsize =10)\n",
    "plt.xlabel(\"Popularity Count\")\n",
    "plt.ylabel(\"Experience\")\n",
    "plt.show()"
   ]
  },
  {
   "cell_type": "markdown",
   "metadata": {},
   "source": [
    "**It seems that 5 years of experience is a great demand for overall Minimum Qualifications.**"
   ]
  },
  {
   "cell_type": "code",
   "execution_count": 19,
   "metadata": {},
   "outputs": [
    {
     "data": {
      "image/png": "[encoded data removed]",
      "text/plain": [
       "<Figure size 432x288 with 1 Axes>"
      ]
     },
     "metadata": {
      "needs_background": "light"
     },
     "output_type": "display_data"
    }
   ],
   "source": [
    "#years of experience to get a job at Google with preferred Qualification\n",
    "Years_exp = ['Fresher', 'fresher', 'Intern', 'Internship','internship', 'intern',\"first year student\",\"final year student\", \"1 year\", '2 years','3 years','4 years','5 years','6 years','7 years','8 years','9 years','10 years','11 years','12 years','13 years','14 years','15 years','16 years']  \n",
    "overall_pre_qual = {}\n",
    "for a in Years_exp:\n",
    "    x1 = df['Pre_qual'].str.contains(a).sum()\n",
    "    if a in Years_exp:\n",
    "        overall_pre_qual[a] = x1\n",
    "over_preqf = pd.DataFrame(list(overall_pre_qual.items()),columns=['Experience Category',\"Count\"])\n",
    "over_preqf['Count'] = over_preqf.Count.astype('int')\n",
    "over_preqf_count = over_preqf[over_minqf.Count != 0]\n",
    "over_preqf_srtd = over_preqf_count.sort_values('Experience Category')\n",
    "over_preqf_srtd.plot.barh(y=\"Count\", x='Experience Category',legend = False, xlim = (0,200))\n",
    "plt.title(\"Experience Category Required in Overall-Preferred Qualifications\", fontsize =10)\n",
    "plt.xlabel(\"Popularity Count\")\n",
    "plt.ylabel(\"Experience\")\n",
    "plt.show()"
   ]
  },
  {
   "cell_type": "markdown",
   "metadata": {},
   "source": [
    "**It seems that Intern  is a great demand for overall Preferred Qualifications.**\n"
   ]
  },
  {
   "cell_type": "markdown",
   "metadata": {},
   "source": [
    "OK....I hope you find this analysis useful.....Thanks"
   ]
  },
  {
   "cell_type": "code",
   "execution_count": null,
   "metadata": {},
   "outputs": [],
   "source": []
  }
 ],
 "metadata": {
  "kernelspec": {
   "display_name": "Python 3",
   "language": "python",
   "name": "python3"
  },
  "language_info": {
   "codemirror_mode": {
    "name": "ipython",
    "version": 3
   },
   "file_extension": ".py",
   "mimetype": "text/x-python",
   "name": "python",
   "nbconvert_exporter": "python",
   "pygments_lexer": "ipython3",
   "version": "3.7.6"
  }
 },
 "nbformat": 4,
 "nbformat_minor": 4
}
